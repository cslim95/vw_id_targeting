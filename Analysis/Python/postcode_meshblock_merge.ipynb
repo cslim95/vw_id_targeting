{
 "cells": [
  {
   "cell_type": "code",
   "execution_count": 2,
   "metadata": {},
   "outputs": [
    {
     "name": "stdout",
     "output_type": "stream",
     "text": [
      "c:\\Users\\chris.slim\\OneWorkplace\\TRACK Australia - General\\Clients & Projects\\Volkswagen Group Australia\\Volkswagen\\Data and Tech\\ID Series Brief\\4. POC Update\\Analysis\\Python\n"
     ]
    }
   ],
   "source": [
    "import numpy as np \n",
    "import pandas as pd\n",
    "import os\n",
    "\n",
    "print(os.getcwd())\n",
    "os.chdir('../../Data/')\n"
   ]
  },
  {
   "cell_type": "code",
   "execution_count": 3,
   "metadata": {},
   "outputs": [
    {
     "name": "stdout",
     "output_type": "stream",
     "text": [
      "['MB_2021_AUST']\n"
     ]
    }
   ],
   "source": [
    "import openpyxl as xl\n",
    "\n",
    "\n",
    "\n",
    "file_mb = '1_inputs/geos/MB_2021_AUST.xlsx'\n",
    "wb = xl.load_workbook(file_mb) \n",
    "print(wb.sheetnames) "
   ]
  },
  {
   "cell_type": "code",
   "execution_count": 4,
   "metadata": {},
   "outputs": [],
   "source": [
    "sheet_name_mb = wb.sheetnames[0]\n",
    "mb = pd.read_excel(file_mb, sheet_name = sheet_name_mb, usecols=['MB_CODE_2021','SA1_CODE_2021','SA2_CODE_2021','SA3_CODE_2021','SA4_CODE_2021',\n",
    "                                                           'SA2_NAME_2021','SA3_NAME_2021','SA4_NAME_2021',\n",
    "                                                           'GCCSA_CODE_2021','GCCSA_NAME_2021'])\n",
    "\n"
   ]
  },
  {
   "cell_type": "code",
   "execution_count": 5,
   "metadata": {},
   "outputs": [],
   "source": [
    "file_poa = '1_inputs/geos/POA_2021_AUST.xlsx'\n",
    "sheet_name_poa = 'POA_2021_AUST'\n",
    "poa = pd.read_excel(file_poa, sheet_name = sheet_name_poa, usecols = ['POA_CODE_2021','MB_CODE_2021'])"
   ]
  },
  {
   "cell_type": "code",
   "execution_count": 6,
   "metadata": {},
   "outputs": [
    {
     "data": {
      "text/html": [
       "<div>\n",
       "<style scoped>\n",
       "    .dataframe tbody tr th:only-of-type {\n",
       "        vertical-align: middle;\n",
       "    }\n",
       "\n",
       "    .dataframe tbody tr th {\n",
       "        vertical-align: top;\n",
       "    }\n",
       "\n",
       "    .dataframe thead th {\n",
       "        text-align: right;\n",
       "    }\n",
       "</style>\n",
       "<table border=\"1\" class=\"dataframe\">\n",
       "  <thead>\n",
       "    <tr style=\"text-align: right;\">\n",
       "      <th></th>\n",
       "      <th>MB_CODE_2021</th>\n",
       "      <th>SA1_CODE_2021</th>\n",
       "      <th>SA2_CODE_2021</th>\n",
       "      <th>SA2_NAME_2021</th>\n",
       "      <th>SA3_CODE_2021</th>\n",
       "      <th>SA3_NAME_2021</th>\n",
       "      <th>SA4_CODE_2021</th>\n",
       "      <th>SA4_NAME_2021</th>\n",
       "      <th>GCCSA_CODE_2021</th>\n",
       "      <th>GCCSA_NAME_2021</th>\n",
       "      <th>POA_CODE_2021</th>\n",
       "    </tr>\n",
       "  </thead>\n",
       "  <tbody>\n",
       "    <tr>\n",
       "      <th>0</th>\n",
       "      <td>10011670000</td>\n",
       "      <td>12003139338</td>\n",
       "      <td>120031393</td>\n",
       "      <td>Croydon Park - Enfield</td>\n",
       "      <td>12003</td>\n",
       "      <td>Strathfield - Burwood - Ashfield</td>\n",
       "      <td>120</td>\n",
       "      <td>Sydney - Inner West</td>\n",
       "      <td>1GSYD</td>\n",
       "      <td>Greater Sydney</td>\n",
       "      <td>2133</td>\n",
       "    </tr>\n",
       "    <tr>\n",
       "      <th>1</th>\n",
       "      <td>10011680000</td>\n",
       "      <td>12003167905</td>\n",
       "      <td>120031679</td>\n",
       "      <td>Croydon</td>\n",
       "      <td>12003</td>\n",
       "      <td>Strathfield - Burwood - Ashfield</td>\n",
       "      <td>120</td>\n",
       "      <td>Sydney - Inner West</td>\n",
       "      <td>1GSYD</td>\n",
       "      <td>Greater Sydney</td>\n",
       "      <td>2132</td>\n",
       "    </tr>\n",
       "    <tr>\n",
       "      <th>2</th>\n",
       "      <td>10011690000</td>\n",
       "      <td>12003139338</td>\n",
       "      <td>120031393</td>\n",
       "      <td>Croydon Park - Enfield</td>\n",
       "      <td>12003</td>\n",
       "      <td>Strathfield - Burwood - Ashfield</td>\n",
       "      <td>120</td>\n",
       "      <td>Sydney - Inner West</td>\n",
       "      <td>1GSYD</td>\n",
       "      <td>Greater Sydney</td>\n",
       "      <td>2133</td>\n",
       "    </tr>\n",
       "    <tr>\n",
       "      <th>3</th>\n",
       "      <td>10011700000</td>\n",
       "      <td>12003167722</td>\n",
       "      <td>120031677</td>\n",
       "      <td>Ashfield - South</td>\n",
       "      <td>12003</td>\n",
       "      <td>Strathfield - Burwood - Ashfield</td>\n",
       "      <td>120</td>\n",
       "      <td>Sydney - Inner West</td>\n",
       "      <td>1GSYD</td>\n",
       "      <td>Greater Sydney</td>\n",
       "      <td>2131</td>\n",
       "    </tr>\n",
       "    <tr>\n",
       "      <th>4</th>\n",
       "      <td>10011710000</td>\n",
       "      <td>12003167727</td>\n",
       "      <td>120031677</td>\n",
       "      <td>Ashfield - South</td>\n",
       "      <td>12003</td>\n",
       "      <td>Strathfield - Burwood - Ashfield</td>\n",
       "      <td>120</td>\n",
       "      <td>Sydney - Inner West</td>\n",
       "      <td>1GSYD</td>\n",
       "      <td>Greater Sydney</td>\n",
       "      <td>2131</td>\n",
       "    </tr>\n",
       "  </tbody>\n",
       "</table>\n",
       "</div>"
      ],
      "text/plain": [
       "  MB_CODE_2021 SA1_CODE_2021 SA2_CODE_2021           SA2_NAME_2021  \\\n",
       "0  10011670000   12003139338     120031393  Croydon Park - Enfield   \n",
       "1  10011680000   12003167905     120031679                 Croydon   \n",
       "2  10011690000   12003139338     120031393  Croydon Park - Enfield   \n",
       "3  10011700000   12003167722     120031677        Ashfield - South   \n",
       "4  10011710000   12003167727     120031677        Ashfield - South   \n",
       "\n",
       "  SA3_CODE_2021                     SA3_NAME_2021 SA4_CODE_2021  \\\n",
       "0         12003  Strathfield - Burwood - Ashfield           120   \n",
       "1         12003  Strathfield - Burwood - Ashfield           120   \n",
       "2         12003  Strathfield - Burwood - Ashfield           120   \n",
       "3         12003  Strathfield - Burwood - Ashfield           120   \n",
       "4         12003  Strathfield - Burwood - Ashfield           120   \n",
       "\n",
       "         SA4_NAME_2021 GCCSA_CODE_2021 GCCSA_NAME_2021 POA_CODE_2021  \n",
       "0  Sydney - Inner West           1GSYD  Greater Sydney          2133  \n",
       "1  Sydney - Inner West           1GSYD  Greater Sydney          2132  \n",
       "2  Sydney - Inner West           1GSYD  Greater Sydney          2133  \n",
       "3  Sydney - Inner West           1GSYD  Greater Sydney          2131  \n",
       "4  Sydney - Inner West           1GSYD  Greater Sydney          2131  "
      ]
     },
     "execution_count": 6,
     "metadata": {},
     "output_type": "execute_result"
    }
   ],
   "source": [
    "mb['sorter'] = mb.groupby(\"GCCSA_NAME_2021\")['MB_CODE_2021'].transform('count')\n",
    "counts = mb.groupby(['GCCSA_NAME_2021','SA4_NAME_2021','sorter'], as_index=False)['MB_CODE_2021'].count().sort_values('sorter', ascending=False)\n",
    "\n",
    "#display(counts.iloc[0:50])\n",
    "#display(counts.iloc[50:100])\n",
    "\n",
    "\n",
    "ev_cities = mb[(mb['GCCSA_NAME_2021'].isin(['Greater Sydney'\n",
    "                                             , 'Greater Melbourne'\n",
    "                                             , 'Greater Brisbane'\n",
    "                                             , 'Greater Perth'\n",
    "                                             , 'Greater Darwin'\n",
    "                                             , 'Greater Adelaide'\n",
    "                                             , 'Greater Hobart'\n",
    "                                             ,'Australian Capital Territory'])) | (mb['SA4_NAME_2021'].isin(['Gold Coast'\n",
    "                                                                                                            ,'Sunshine Coast'\n",
    "                                                                                                            ,'Newcastle and Lake Macquarie'\n",
    "                                                                                                            , 'Latrobe - Gippsland']))]\n",
    "\n",
    "ev_postcodes = pd.merge(left=ev_cities, right=poa, left_on='MB_CODE_2021', right_on='MB_CODE_2021', how='inner').drop('sorter', axis=1)\n",
    "\n",
    "ev_postcodes.head()"
   ]
  },
  {
   "cell_type": "code",
   "execution_count": 22,
   "metadata": {},
   "outputs": [
    {
     "name": "stdout",
     "output_type": "stream",
     "text": [
      "(1219, 5)\n"
     ]
    }
   ],
   "source": [
    "ev_postcodes['METRO_AREA'] = np.where(ev_postcodes['GCCSA_NAME_2021'].str.lower().str[0:4] == 'rest', ev_postcodes['SA4_NAME_2021'], ev_postcodes['GCCSA_NAME_2021'])\n",
    "\n",
    "post_code_area_lkp = ev_postcodes.groupby(['POA_CODE_2021', 'SA3_CODE_2021', 'SA3_NAME_2021','GCCSA_NAME_2021', 'METRO_AREA'],as_index=False)['SA4_CODE_2021'].count().drop('SA4_CODE_2021',axis=1)\n",
    "\n",
    "unq = post_code_area_lkp.groupby('POA_CODE_2021', as_index=False)['SA3_CODE_2021'].min()\n",
    "\n",
    "post_code_area_lkp_unq = pd.merge(unq, post_code_area_lkp, how='left', on=['POA_CODE_2021','SA3_CODE_2021'])\n",
    "\n",
    "print(post_code_area_lkp_unq.shape)\n",
    "\n",
    "post_code_area_lkp_unq.to_csv('3_outputs/post_code_by_metro_area.csv')\n"
   ]
  },
  {
   "cell_type": "code",
   "execution_count": 23,
   "metadata": {},
   "outputs": [
    {
     "data": {
      "text/plain": [
       "METRO_AREA\n",
       "Greater Melbourne               284\n",
       "Greater Sydney                  259\n",
       "Greater Adelaide                151\n",
       "Greater Brisbane                142\n",
       "Greater Perth                   130\n",
       "Latrobe - Gippsland              89\n",
       "Greater Hobart                   38\n",
       "Newcastle and Lake Macquarie     34\n",
       "Sunshine Coast                   27\n",
       "Australian Capital Territory     26\n",
       "Gold Coast                       23\n",
       "Greater Darwin                   16\n",
       "Name: count, dtype: int64"
      ]
     },
     "execution_count": 23,
     "metadata": {},
     "output_type": "execute_result"
    }
   ],
   "source": [
    "post_code_area_lkp_unq.METRO_AREA.value_counts()"
   ]
  },
  {
   "cell_type": "code",
   "execution_count": 25,
   "metadata": {},
   "outputs": [
    {
     "name": "stdout",
     "output_type": "stream",
     "text": [
      "   POA_CODE_2021 SA3_CODE_2021            SA3_NAME_2021 GCCSA_NAME_2021  \\\n",
      "25          2018         11701                   Botany  Greater Sydney   \n",
      "26          2019         11701                   Botany  Greater Sydney   \n",
      "27          2020         11701                   Botany  Greater Sydney   \n",
      "28          2021         11801  Eastern Suburbs - North  Greater Sydney   \n",
      "29          2022         11801  Eastern Suburbs - North  Greater Sydney   \n",
      "30          2023         11801  Eastern Suburbs - North  Greater Sydney   \n",
      "31          2024         11801  Eastern Suburbs - North  Greater Sydney   \n",
      "32          2025         11801  Eastern Suburbs - North  Greater Sydney   \n",
      "33          2026         11801  Eastern Suburbs - North  Greater Sydney   \n",
      "34          2027         11801  Eastern Suburbs - North  Greater Sydney   \n",
      "35          2028         11801  Eastern Suburbs - North  Greater Sydney   \n",
      "36          2029         11801  Eastern Suburbs - North  Greater Sydney   \n",
      "37          2030         11801  Eastern Suburbs - North  Greater Sydney   \n",
      "38          2031         11802  Eastern Suburbs - South  Greater Sydney   \n",
      "39          2032         11701                   Botany  Greater Sydney   \n",
      "\n",
      "        METRO_AREA  \n",
      "25  Greater Sydney  \n",
      "26  Greater Sydney  \n",
      "27  Greater Sydney  \n",
      "28  Greater Sydney  \n",
      "29  Greater Sydney  \n",
      "30  Greater Sydney  \n",
      "31  Greater Sydney  \n",
      "32  Greater Sydney  \n",
      "33  Greater Sydney  \n",
      "34  Greater Sydney  \n",
      "35  Greater Sydney  \n",
      "36  Greater Sydney  \n",
      "37  Greater Sydney  \n",
      "38  Greater Sydney  \n",
      "39  Greater Sydney  \n"
     ]
    },
    {
     "ename": "",
     "evalue": "",
     "output_type": "error",
     "traceback": [
      "\u001b[1;31mThe Kernel crashed while executing code in the the current cell or a previous cell. Please review the code in the cell(s) to identify a possible cause of the failure. Click <a href='https://aka.ms/vscodeJupyterKernelCrash'>here</a> for more info. View Jupyter <a href='command:jupyter.viewOutput'>log</a> for further details."
     ]
    }
   ],
   "source": [
    "print(post_code_area_lkp_unq[25:40])"
   ]
  }
 ],
 "metadata": {
  "kernelspec": {
   "display_name": "vw",
   "language": "python",
   "name": "python3"
  },
  "language_info": {
   "codemirror_mode": {
    "name": "ipython",
    "version": 3
   },
   "file_extension": ".py",
   "mimetype": "text/x-python",
   "name": "python",
   "nbconvert_exporter": "python",
   "pygments_lexer": "ipython3",
   "version": "3.9.18"
  }
 },
 "nbformat": 4,
 "nbformat_minor": 2
}
